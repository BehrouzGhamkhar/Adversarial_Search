{
 "cells": [
  {
   "cell_type": "markdown",
   "id": "b103c5ea",
   "metadata": {
    "deletable": false,
    "editable": false,
    "nbassignment": {
     "type": "header"
    },
    "nbgrader": {
     "cell_type": "markdown",
     "checksum": "c8f1ff0cef48f908557e3274332254bc",
     "grade": false,
     "grade_id": "HeaderA",
     "locked": true,
     "schema_version": 3,
     "solution": false,
     "task": false
    }
   },
   "source": [
    "# Artificial Intelligence for Robotics 07\n",
    "\n",
    "## General Information:\n",
    "Please do not add or delete any cells. Answers belong into the corresponding cells (below the question). If a function is given (either as a signature or a full function), you should not change the name, arguments or return value of the function.\n",
    "\n",
    "If you encounter empty cells underneath the answer that can not be edited, please ignore them, they are for testing purposes.\n",
    "\n",
    "When editing an assignment there can be the case that there are variables in the kernel. To make sure your assignment works, please restart the kernel and run all cells before submitting (e.g. via Kernel -> Restart & Run All).\n",
    "\n",
    "Code cells where you are supposed to give your answer often include the line `raise NotImplementedError`. This makes it easier to automatically grade answers. If you edit the cell please outcomment or delete this line.\n",
    "\n",
    "## Submission:\n",
    "Please submit your notebook via the web interface (in the main view -> Assignments -> Submit). The assignments are **due on Monday at 20:00**.\n",
    "\n",
    "## Group Work:\n",
    "Please enter your UID (your username here) and those of your group partners into the next cell. We apply plagiarism checking, so do not submit others solutions! If an assignment has a copied solution, the task will be graded with 0 points for all people with the same solution.\n",
    "\n",
    "## Questions about the Assignment:\n",
    "If you have questions about the assignment please post them in the LEA forum before the deadline. Don't wait until the last day to post questions!"
   ]
  },
  {
   "cell_type": "markdown",
   "id": "269910cd",
   "metadata": {
    "deletable": false,
    "editable": false,
    "nbassignment": {
     "type": "header"
    },
    "nbgrader": {
     "cell_type": "markdown",
     "checksum": "93d376da99c86b4fabd2542101dc5ec7",
     "grade": false,
     "grade_id": "cell-4a94f4450f12f33c",
     "locked": true,
     "schema_version": 3,
     "solution": false,
     "task": false
    }
   },
   "source": [
    "### Please add the usernames of all your team members in the manner member1, member2 in next cell (example given below)\n",
    "\n",
    "member1 = 'example'\n",
    "\n",
    "member2 = 'example2'\n",
    "\n",
    "#### If you are not working in a group, then please add member2 as none2s"
   ]
  },
  {
   "cell_type": "code",
   "execution_count": null,
   "id": "72243e7a",
   "metadata": {
    "ExecuteTime": {
     "end_time": "2024-04-11T15:24:02.006415Z",
     "start_time": "2024-04-11T15:24:02.002165Z"
    },
    "deletable": false,
    "nbassignment": {
     "type": "group_info"
    },
    "nbgrader": {
     "cell_type": "code",
     "checksum": "2ef735ca9199180a82193d39df17789b",
     "grade": false,
     "grade_id": "cell-a9c2f4587c671f98",
     "locked": false,
     "schema_version": 3,
     "solution": true,
     "task": false
    }
   },
   "outputs": [],
   "source": [
    "# YOUR CODE HERE\n",
    "raise NotImplementedError()"
   ]
  },
  {
   "cell_type": "code",
   "execution_count": null,
   "id": "58d35b9d",
   "metadata": {
    "ExecuteTime": {
     "end_time": "2024-04-11T15:23:55.951443Z",
     "start_time": "2024-04-11T15:23:55.944250Z"
    },
    "deletable": false,
    "editable": false,
    "nbassignment": {
     "type": "header"
    },
    "nbgrader": {
     "cell_type": "code",
     "checksum": "90856a52a0162f78566c398792f29a27",
     "grade": true,
     "grade_id": "cell-e27ced94e387fe18",
     "locked": true,
     "points": 0,
     "schema_version": 3,
     "solution": false,
     "task": false
    }
   },
   "outputs": [],
   "source": [
    "# Execute this cell to make sure you correctly filled in the usernames of the team members\n",
    "\n",
    "def group_name_test():\n",
    "    for member_id in [member1, member2]:\n",
    "        assert isinstance(member_id, str), \"Please give your member id as a string.\"\n",
    "        assert len(member_id) > 0, \"You need to fill in the member id for both members\"\n",
    "        assert member_id.endswith(\"2s\"), \"The member id should end with 2s (Your JupyterHub username)\"\n",
    "\n",
    "group_name_test() \n",
    "print(\"All tests passed!\")"
   ]
  },
  {
   "cell_type": "markdown",
   "id": "5f3f20d8",
   "metadata": {
    "deletable": false,
    "editable": false,
    "nbgrader": {
     "cell_type": "markdown",
     "checksum": "09920d77e378e81e5ebc1418822a64e8",
     "grade": false,
     "grade_id": "taskheader_1",
     "locked": true,
     "schema_version": 3,
     "solution": false,
     "task": false
    }
   },
   "source": [
    "# Task 1\n",
    "\n",
    "**[100 Point(s)]**"
   ]
  },
  {
   "cell_type": "markdown",
   "id": "9bc7c955",
   "metadata": {
    "deletable": false,
    "editable": false,
    "nbgrader": {
     "cell_type": "markdown",
     "checksum": "ff3c369974dca3c3a9e3b3bdf552e8ef",
     "grade": false,
     "grade_id": "tic_tac_toe_Atic_tac_toe_Btic_tac_toe_Ctic_tac_toe_Dtic_tac_toe_Etic_tac_toe_F_Header",
     "locked": true,
     "schema_version": 3,
     "solution": false,
     "task": false
    }
   },
   "source": [
    "\n",
    "# Adversarial Search\n",
    "\n",
    "In this assignment you will bring to practice the algorithms that were introduced to you during the lectures about adversarial search.  \n",
    "You will implement the well known game *Tic-Tac-Toe* and apply adversarial search techniques in order to make the computer play it.\n",
    "\n",
    "To make your life easier, there are some classes and interfaces already defined for you. Namely, a `Game` class, a `GameState` tuple as well as some minor helpers. We will go over them in detail now."
   ]
  },
  {
   "cell_type": "markdown",
   "id": "69031e56",
   "metadata": {
    "deletable": false,
    "editable": false,
    "nbgrader": {
     "cell_type": "markdown",
     "checksum": "a95fbae994c6cdad6bf1fbef1ccefccb",
     "grade": false,
     "grade_id": "taskheader_1_1",
     "locked": true,
     "schema_version": 3,
     "solution": false,
     "task": false
    }
   },
   "source": [
    "## Task 1.1\n",
    "\n",
    "**[20 Point(s)]**"
   ]
  },
  {
   "cell_type": "code",
   "execution_count": 1,
   "id": "009c3c83",
   "metadata": {
    "ExecuteTime": {
     "end_time": "2024-06-04T07:16:14.493432Z",
     "start_time": "2024-06-04T07:16:14.125540Z"
    }
   },
   "outputs": [],
   "source": [
    "from canvas import Canvas_TicTacToe"
   ]
  },
  {
   "cell_type": "code",
   "execution_count": 2,
   "id": "70e8e16f",
   "metadata": {
    "ExecuteTime": {
     "end_time": "2024-06-04T07:16:16.502180Z",
     "start_time": "2024-06-04T07:16:16.023529Z"
    },
    "deletable": false,
    "editable": false,
    "nbgrader": {
     "cell_type": "code",
     "checksum": "aea3656154d1a7b3b8791eb8d5223582",
     "grade": false,
     "grade_id": "tic_tac_toe_A_Description0",
     "locked": true,
     "schema_version": 3,
     "solution": false,
     "task": false
    }
   },
   "outputs": [],
   "source": [
    "from games import GameState, Game, Player, infinity"
   ]
  },
  {
   "cell_type": "markdown",
   "id": "a8a132bc",
   "metadata": {
    "deletable": false,
    "editable": false,
    "nbgrader": {
     "cell_type": "markdown",
     "checksum": "f28f067a87755ba5a3656b448795736a",
     "grade": false,
     "grade_id": "tic_tac_toe_A_Description1",
     "locked": true,
     "schema_version": 3,
     "solution": false,
     "task": false
    }
   },
   "source": [
    "## The `GameState` Namedtuple\n",
    "\n",
    "`GameState` is a [namedtuple](https://docs.python.org/3.5/library/collections.html#collections.namedtuple) which represents the current state of a game. Let it be Tic-Tac-Toe or any other game."
   ]
  },
  {
   "cell_type": "markdown",
   "id": "c6de61d4",
   "metadata": {
    "deletable": false,
    "editable": false,
    "nbgrader": {
     "cell_type": "markdown",
     "checksum": "0c691f4a1a019673ee2702dd816b4db1",
     "grade": false,
     "grade_id": "tic_tac_toe_A_Description2",
     "locked": true,
     "schema_version": 3,
     "solution": false,
     "task": false
    }
   },
   "source": [
    "## The `Game` Class\n",
    "\n",
    "Let's have a look at the class `Game` in our module. We see that it has functions, namely `actions`, `result`, `utility`, `terminal_test`, `to_move` and `display`.\n",
    "\n",
    "We see that these functions have not actually been implemented. This class is actually just a template class; we are supposed to create the class for our game, `TicTacToe` by inheriting this `Game` class and implement all the methods mentioned in `Game`. Do not close the popup so that you can follow along the description of code below."
   ]
  },
  {
   "cell_type": "code",
   "execution_count": 3,
   "id": "93f63f5e",
   "metadata": {
    "ExecuteTime": {
     "end_time": "2024-06-04T07:16:20.993564Z",
     "start_time": "2024-06-04T07:16:20.982289Z"
    },
    "deletable": false,
    "editable": false,
    "nbgrader": {
     "cell_type": "code",
     "checksum": "78ab2a4fe92cae308a02089d84681646",
     "grade": false,
     "grade_id": "tic_tac_toe_A_Description3",
     "locked": true,
     "schema_version": 3,
     "solution": false,
     "task": false
    }
   },
   "outputs": [],
   "source": [
    "%psource Game"
   ]
  },
  {
   "cell_type": "markdown",
   "id": "80c9bcea",
   "metadata": {
    "deletable": false,
    "editable": false,
    "nbgrader": {
     "cell_type": "markdown",
     "checksum": "50729957f15e8d499e0b7cea7d9bf0a5",
     "grade": false,
     "grade_id": "tic_tac_toe_A_Description4",
     "locked": true,
     "schema_version": 3,
     "solution": false,
     "task": false
    }
   },
   "source": [
    "Now let's get into details of all the methods in our `Game` class. You have to implement these methods when you create new classes that would represent your game.\n",
    "\n",
    "* `actions(self, state)` : Given a game state, this method generates all the legal actions possible from this state, as a list or a generator. Returning a generator rather than a list has the advantage that it saves space and you can still operate on it as a list.\n",
    "\n",
    "\n",
    "* `result(self, state, move)` : Given a game state and a move, this method returns the game state that you get by making that move on this game state.\n",
    "\n",
    "\n",
    "* `utility(self, state, player)` : Given a terminal game state and a player, this method returns the utility for that player in the given terminal game state. While implementing this method assume that the game state is a terminal game state. The logic in this module is such that this method will be called only on terminal game states.\n",
    "\n",
    "\n",
    "* `terminal_test(self, state)` : Given a game state, this method should return `True` if this game state is a terminal state, and `False` otherwise.\n",
    "\n",
    "\n",
    "* `to_move(self, state)` : Given a game state, this method returns the player who is to play next. This information is typically stored in the game state, so all this method does is extract this information and return it.\n",
    "\n",
    "\n",
    "* `display(self, state)` : This method prints/displays the current state of the game.\n",
    "\n",
    "* `play_game` : This function is the one that will actually be used to play the game. You pass an instance of the game you want to play and the instances of the players you want in this game. Use it to play AI vs AI, AI vs human, or even human vs human matches!"
   ]
  },
  {
   "cell_type": "markdown",
   "id": "8417188b",
   "metadata": {
    "deletable": false,
    "editable": false,
    "nbgrader": {
     "cell_type": "markdown",
     "checksum": "9f8d61c84275736582d56f00c42b8203",
     "grade": false,
     "grade_id": "tic_tac_toe_A_Description5",
     "locked": true,
     "schema_version": 3,
     "solution": false,
     "task": false
    }
   },
   "source": [
    "## `TicTacToe` Class [20 Points]\n",
    "\n",
    "Now that you know about how to use the `Game` class, the first task is to implement the class `TicTacToe`, which has been inherited from the class `Game`.\n",
    "\n",
    "Additional methods in TicTacToe:\n",
    "\n",
    "* `__init__(self, h=3, v=3, k=3)` :  When you create a class inherited from the `Game` class (class `TicTacToe` in our case), you'll have to create an object of this inherited class to initialize the game. This initialization might require some additional information which would be passed to `__init__` as variables. For the case of our `TicTacToe` game, this additional information would be the number of rows `h`, number of columns `v` and how many consecutive X's or O's are needed in a row, column or diagonal for a win `k`. Also, the initial game state has to be defined here in `__init__`.\n",
    "\n",
    "\n",
    "* `compute_utility(self, board, move, player)` : A method to calculate the utility of TicTacToe game. If 'X' wins with this move, this method returns 1; if 'O' wins return -1; else return 0.\n",
    "\n",
    "\n",
    "* `k_in_row(self, board, move, player, delta_x_y)` : This method returns `True` if there is a line formed on the TicTacToe board with the latest move else `False.`\n",
    "\n",
    "### GameState in TicTacToe game\n",
    "\n",
    "Now, before we start implementing our `TicTacToe` game, we need to decide how we will be representing our game state. Typically, a game state will give you all the current information about the game at any point in time. When you are given a game state, you should be able to tell whose turn it is next, how the game will look like on a real-life board (if it has one) etc. A game state need not include the history of the game. If you can play the game further given a game state, you game state representation is acceptable. While we might like to include all kinds of information in our game state, we wouldn't want to put too much information into it. Modifying this game state to generate a new one would be a real pain then.\n",
    "\n",
    "Now, as for our `TicTacToe` game state, would storing only the positions of all the X's and O's be sufficient to represent all the game information at that point in time? Well, does it tell us whose turn it is next? Looking at the 'X's and O's on the board and counting them should tell us that. But that would mean extra computing. To avoid this, we will also store whose move it is next in the game state.\n",
    "\n",
    "Think about what we've done here. We have reduced extra computation by storing additional information in a game state. Now, this information might not be absolutely essential to tell us about the state of the game, but it does save us additional computation time. We'll do more of this later on.\n",
    "\n",
    "The `TicTacToe` game defines its game state as:\n",
    "\n",
    "`GameState = namedtuple('GameState', 'to_move, utility, board, moves')`\n",
    "\n",
    "The game state is called, quite appropriately, `GameState`, and it has 4 variables, namely, `to_move`, `utility`, `board` and `moves`.\n",
    "\n",
    "Below, you can find a more detailed description of each of those variables:\n",
    "\n",
    "* `to_move` : It represents whose turn it is to move next. This will be a string of a single character, either 'X' or 'O'.\n",
    "\n",
    "\n",
    "* `utility` : It stores the utility of the game state. Storing this utility is a good idea, because, when you do a Minimax Search or an Alphabeta Search, you generate many recursive calls, which travel all the way down to the terminal states. When these recursive calls go back up to the original callee, we have calculated utilities for many game states. We store these utilities in their respective `GameState`s to avoid calculating them all over again.\n",
    "\n",
    "\n",
    "* `board` : A dict that stores all the positions of X's and O's on the board.\n",
    "\n",
    "\n",
    "* `moves` : It stores the list of legal moves possible from the current position. Note here, that storing the moves as a list, as it is done here, increases the space complexity of Minimax Search from `O(m)` to `O(bm)`. Refer to Sec. 5.2.1 of the book.\n",
    "\n",
    "### Representing a move in TicTacToe game\n",
    "\n",
    "Now that we have decided how our game state will be represented, it's time to decide how our move will be represented. A move should have a representation, that makes it easy to use this move to modify a current game state in order to generate a new one.\n",
    "\n",
    "For our `TicTacToe` game, we'll just represent a move by a `tuple`, where the first and the second elements of the tuple will represent the row and column, respectively, where the next move is to be made. Whether to make an `'X'` or an `'O'` will be decided by the `to_move` in the `GameState` namedtuple."
   ]
  },
  {
   "cell_type": "code",
   "execution_count": null,
   "id": "43bb0bec",
   "metadata": {
    "deletable": false,
    "nbgrader": {
     "cell_type": "code",
     "checksum": "b646143f63b43fc2bf9671f5ecd8ca07",
     "grade": false,
     "grade_id": "tic_tac_toe_A",
     "locked": false,
     "schema_version": 3,
     "solution": true,
     "task": false
    }
   },
   "outputs": [],
   "source": [
    "from typing import List, Tuple, Dict\n",
    "\n",
    "class TicTacToe(Game):\n",
    "    \"\"\"Play TicTacToe on an h x v board, with <first player> playing 'X'.\n",
    "    A state has the player to move, a cached utility, a list of moves in\n",
    "    the form of a list of (x, y) positions, and a board, in the form of\n",
    "    a dict of {(x, y): Player} entries, where Player is 'X' or 'O'.\"\"\"\n",
    "\n",
    "    def __init__(self, h: int = 3, v: int = 3, k: int = 3):\n",
    "        \"\"\"\n",
    "        Args:\n",
    "            h -- horizontal dimension of the board\n",
    "            v -- vertical dimension of the board\n",
    "            k -- how many consecutive tiles of same kind are needed for a win\n",
    "        \"\"\"\n",
    "        # YOUR CODE HERE\n",
    "        raise NotImplementedError()\n",
    "\n",
    "    def actions(self, state: GameState) -> List[Tuple[int, int]]:\n",
    "        \"\"\"Legal moves are any square not yet taken.\n",
    "        \n",
    "        Args:\n",
    "            state -- The current state of the game\n",
    "        Returns:\n",
    "            All leagal moves possible in the current game state.\n",
    "        \"\"\"\n",
    "        # YOUR CODE HERE\n",
    "        raise NotImplementedError()\n",
    "\n",
    "    def result(self, state: GameState, move: Tuple[int, int]) -> GameState:\n",
    "        # YOUR CODE HERE\n",
    "        raise NotImplementedError()\n",
    "\n",
    "    def utility(self, state: GameState, player: str) -> int:\n",
    "        \"\"\"Return the utility of the current state for the respective player.\n",
    "        \n",
    "        Args:\n",
    "            state  -- The current game state\n",
    "            player -- The player whose turn it is\n",
    "        Returns:\n",
    "            1 for win, -1 for loss, 0 otherwise.\"\"\"\n",
    "        # YOUR CODE HERE\n",
    "        raise NotImplementedError()\n",
    "\n",
    "    def terminal_test(self, state: GameState) -> bool:\n",
    "        \"\"\"A state is terminal if it is won or there are no empty squares.\n",
    "        Args:\n",
    "            state: The current game state\n",
    "        Returns:\n",
    "            True if the current state is terminal; False otherwise.\n",
    "        \"\"\"\n",
    "        # YOUR CODE HERE\n",
    "        raise NotImplementedError()\n",
    "\n",
    "    def display(self, state: GameState) -> None:\n",
    "        \"\"\"Visualize the current game state by printing to console.\n",
    "        Args:\n",
    "            state: The current game state\n",
    "        \"\"\"\n",
    "        # YOUR CODE HERE\n",
    "        raise NotImplementedError()\n",
    "\n",
    "    def compute_utility(self, board: Dict[Tuple[int, int], str], move: Tuple[int, int], player: str) -> int:\n",
    "        \"\"\"Compute the utility of a given move in a given game state.\n",
    "        Args:\n",
    "            board  -- The board state\n",
    "            move   -- The move played\n",
    "            player -- The player whose turn it is\n",
    "        Returns:\n",
    "            If player 'X' wins return 1; elif 'O' wins return -1; else (draw) return 0\n",
    "        \"\"\"\n",
    "        # YOUR CODE HERE\n",
    "        raise NotImplementedError()\n",
    "\n",
    "    def k_in_row(self, board: Dict[Tuple[int, int], str], move: Tuple[int, int], player: str,\n",
    "                 delta_x_y: Tuple[int, int]) -> bool:\n",
    "        \"\"\"Check whether there is a line of length k through tiles of kind player.\n",
    "        Args:\n",
    "            board  -- The boards state\n",
    "            move   -- The move played\n",
    "            player -- Player whose tiles should be checked for in_row condition\n",
    "        Returns:\n",
    "            If there is a line vertically, horizontally or diagonally using only tiles of the respective\n",
    "            player, return True; False otherwise.\n",
    "        \"\"\"\n",
    "        # YOUR CODE HERE\n",
    "        raise NotImplementedError()"
   ]
  },
  {
   "cell_type": "code",
   "execution_count": null,
   "id": "bcba2418",
   "metadata": {
    "deletable": false,
    "editable": false,
    "nbgrader": {
     "cell_type": "code",
     "checksum": "35c2a6325d0827127a612c26ef349110",
     "grade": true,
     "grade_id": "test_tic_tac_toe_A0",
     "locked": true,
     "points": 20,
     "schema_version": 3,
     "solution": false,
     "task": false
    }
   },
   "outputs": [],
   "source": []
  },
  {
   "cell_type": "markdown",
   "id": "f92eb499",
   "metadata": {
    "deletable": false,
    "editable": false,
    "nbgrader": {
     "cell_type": "markdown",
     "checksum": "0acd3838ae442fb42d41499eddd6ef04",
     "grade": false,
     "grade_id": "taskheader_1_2",
     "locked": true,
     "schema_version": 3,
     "solution": false,
     "task": false
    }
   },
   "source": [
    "## Task 1.2\n",
    "\n",
    "**[25 Point(s)]**"
   ]
  },
  {
   "cell_type": "markdown",
   "id": "a13a4925",
   "metadata": {
    "deletable": false,
    "editable": false,
    "nbgrader": {
     "cell_type": "markdown",
     "checksum": "8231b7ca64375afd226eac47efcde7c1",
     "grade": false,
     "grade_id": "tic_tac_toe_B_Description0",
     "locked": true,
     "schema_version": 3,
     "solution": false,
     "task": false
    }
   },
   "source": [
    "## Players to play games\n",
    "\n",
    "So, we have finished the implementation of the `TicTacToe` class. What this class does is that, it just defines the rules of the game. Now we need to create the AI that actually plays the game.\n",
    "\n",
    "There are four players that we will define: human player, random player, minimax player and alphabeta player. Of those four players, two are already implemented for you. Namely, the `query_player` implements the human player, and the `human_player` implements a player that draws some legal move uniformly from the set of possible moves.\n",
    "\n",
    "### Human Player\n",
    "The `human_player` function allows you, a human opponent, to play the game. This function requires a `display` method to be implemented in your game class, so that successive game states can be displayed on the terminal, making it easier for you to visualize the game and play accordingly.\n",
    "\n",
    "### Random Player\n",
    "The `random_player` is a function that plays random moves in the game. That's it. There isn't much more to this guy. \n",
    "\n",
    "### MiniMax Player\n",
    "The `MiniMax` player uses the classical Minimax algorithm to determine the best possible move in the current game state.\n",
    "\n",
    "### AlphaBeta Player\n",
    "The `AlphaBeta` player utilizes alpha-beta search on minimax to play the best move in the current game state (assuming no cutoff)."
   ]
  },
  {
   "cell_type": "code",
   "execution_count": null,
   "id": "5b30a261",
   "metadata": {
    "deletable": false,
    "editable": false,
    "nbgrader": {
     "cell_type": "code",
     "checksum": "24d3e2058fa29282e701080829130d77",
     "grade": false,
     "grade_id": "tic_tac_toe_B_Description1",
     "locked": true,
     "schema_version": 3,
     "solution": false,
     "task": false
    }
   },
   "outputs": [],
   "source": [
    "from typing import Tuple\n",
    "import random\n",
    "\n",
    "def human_player(game: Game, state: GameState) -> Tuple[int, int]:\n",
    "    \"\"\"Make a move by querying standard input.\n",
    "    Args:\n",
    "        game  -- the game that is played\n",
    "        state -- the current game state\n",
    "    Returns:\n",
    "        The move played\n",
    "    \"\"\"\n",
    "    print(\"current state:\")\n",
    "    game.display(state)\n",
    "    print(\"available moves: {}\".format(game.actions(state)))\n",
    "    print(\"\")\n",
    "    move_string = input('Your move? ')\n",
    "    try:\n",
    "        move = eval(move_string)\n",
    "    except NameError:\n",
    "        move = move_string\n",
    "    return move\n",
    "\n",
    "\n",
    "def random_player(game: Game, state: GameState):\n",
    "    \"\"\"A player that chooses a legal move at random.\n",
    "    Args:\n",
    "        game  -- the game that is played\n",
    "        state -- the current state of the game\n",
    "    Returns:\n",
    "        A random move drawn uniformly from the set of legal moves.\n",
    "    \"\"\"\n",
    "    return random.choice(game.actions(state))"
   ]
  },
  {
   "cell_type": "markdown",
   "id": "c72c756a",
   "metadata": {
    "deletable": false,
    "editable": false,
    "nbgrader": {
     "cell_type": "markdown",
     "checksum": "9b8e01deccf18bc4862ecb89208f298a",
     "grade": false,
     "grade_id": "tic_tac_toe_B_Description2",
     "locked": true,
     "schema_version": 3,
     "solution": false,
     "task": false
    }
   },
   "source": [
    "### Implementing the MiniMax Player [25 Points]\n",
    "\n",
    "Lets start by implementing the `MiniMax` player. Below you will find a class template that defines three methods: `max_value`, `min_value` and `search`. Additionally a `__call__` function is implemented, which is used as an entry point when a player instance is passed to the `Game.play_game()` function in order to play the game.\n",
    "> You do **not** have to change the `__call__` function!\n",
    "\n",
    "Please implement the **plain** minimax algorithm using the provided template!"
   ]
  },
  {
   "cell_type": "code",
   "execution_count": null,
   "id": "f1eb5512",
   "metadata": {
    "deletable": false,
    "nbgrader": {
     "cell_type": "code",
     "checksum": "4227ecb497895267a4f4c4ac09dfcfd7",
     "grade": false,
     "grade_id": "tic_tac_toe_B",
     "locked": false,
     "schema_version": 3,
     "solution": true,
     "task": false
    }
   },
   "outputs": [],
   "source": [
    "from typing import List, Tuple, Dict, Union, Optional\n",
    "\n",
    "class MiniMax(Player):\n",
    "    \n",
    "    def __init__(self, game: Optional[Game] = None):\n",
    "        \"\"\"\n",
    "        Args:\n",
    "            game -- game that is being played (can be None if the instance of the class is used with\n",
    "            Game.play_game).\n",
    "        \"\"\"\n",
    "        self.game = game\n",
    "    \n",
    "    def max_value(self, state: GameState, player: str) -> int:\n",
    "        \"\"\"The maximin value is the highest value that the player can be sure to get without knowing the actions\n",
    "        of the other players; equivalently, it is the lowest value the other players can force the player to\n",
    "        receive when they know the player's action.\n",
    "        Args:\n",
    "            state  -- The current game state\n",
    "            player -- The player to consider\n",
    "        Returns:\n",
    "            The highest utility value a player can be sure to get independent of the actions of the other\n",
    "            player.\n",
    "        \"\"\"\n",
    "        # YOUR CODE HERE\n",
    "        raise NotImplementedError()\n",
    "\n",
    "\n",
    "    def min_value(self, state: GameState, player: str) -> int:\n",
    "        \"\"\"The minimax value of a player is the smallest value that the other players can force the player to\n",
    "        receive, without knowing the player's actions; equivalently, it is the largest value the player can be\n",
    "        sure to get when they know the actions of the other players.\n",
    "        Args:\n",
    "            state  -- The current game state\n",
    "            player -- The player to consider\n",
    "        Returns:\n",
    "            The lowest utility value that the other player can force the player to receive independent of the\n",
    "            actions of the other player.\n",
    "        \"\"\"\n",
    "        # YOUR CODE HERE\n",
    "        raise NotImplementedError()\n",
    "\n",
    "\n",
    "    def search(self, state: GameState) -> Tuple[int, int]:\n",
    "        \"\"\"Given a state in a game, calculate the best move by searching forward all the way to the terminal\n",
    "        states.\n",
    "        Args:\n",
    "            state -- The current game state\n",
    "        Returns:\n",
    "            The best move.\n",
    "        \"\"\"\n",
    "        # YOUR CODE HERE\n",
    "        raise NotImplementedError()\n",
    "    \n",
    "    def __call__(self, game: Game, state: GameState) -> Tuple[int, int]:\n",
    "        \"\"\"\n",
    "            This function enables you to call a MiniMax instance like a function and is used in the play_game\n",
    "            method.\n",
    "        \"\"\"\n",
    "        self.game = game\n",
    "        return self.search(state)"
   ]
  },
  {
   "cell_type": "code",
   "execution_count": null,
   "id": "c348ec31",
   "metadata": {
    "deletable": false,
    "editable": false,
    "nbgrader": {
     "cell_type": "code",
     "checksum": "c302af4ed8e7ba358366579de531147c",
     "grade": true,
     "grade_id": "test_tic_tac_toe_B0",
     "locked": true,
     "points": 25,
     "schema_version": 3,
     "solution": false,
     "task": false
    }
   },
   "outputs": [],
   "source": []
  },
  {
   "cell_type": "markdown",
   "id": "b4d07383",
   "metadata": {
    "deletable": false,
    "editable": false,
    "nbgrader": {
     "cell_type": "markdown",
     "checksum": "74df96edec0b9432d8460face7b0fd68",
     "grade": false,
     "grade_id": "taskheader_1_3",
     "locked": true,
     "schema_version": 3,
     "solution": false,
     "task": false
    }
   },
   "source": [
    "## Task 1.3\n",
    "\n",
    "**[30 Point(s)]**"
   ]
  },
  {
   "cell_type": "markdown",
   "id": "2218c00e",
   "metadata": {
    "deletable": false,
    "editable": false,
    "nbgrader": {
     "cell_type": "markdown",
     "checksum": "c15d87b4f05435ea73e0d4c5d483e5c4",
     "grade": false,
     "grade_id": "tic_tac_toe_C_Description0",
     "locked": true,
     "schema_version": 3,
     "solution": false,
     "task": false
    }
   },
   "source": [
    "### Implementing the AlphaBeta Player [30 Points]\n",
    "\n",
    "With the plain version of minimax implemented, now implement the enhanced version of the algorithm by using **alpha-beta-search**.\n",
    "\n",
    "A similar template is provided to you. Please use it to implement the algorithm!\n",
    "\n",
    "> Be aware, that since `cutoff_test` and `eval_fn` are defined as `Optional` you **need** to define a default function that takes their place if they are not given!"
   ]
  },
  {
   "cell_type": "code",
   "execution_count": null,
   "id": "7805cf3d",
   "metadata": {
    "deletable": false,
    "nbgrader": {
     "cell_type": "code",
     "checksum": "9e916f155a8d0a746ee4eadeb76c766d",
     "grade": false,
     "grade_id": "tic_tac_toe_C",
     "locked": false,
     "schema_version": 3,
     "solution": true,
     "task": false
    }
   },
   "outputs": [],
   "source": [
    "from typing import List, Tuple, Dict, Callable, Optional\n",
    "\n",
    "class AlphaBeta(Player):\n",
    "    \n",
    "    def __init__(self, d: int = 4, game: Optional[Game] = None,\n",
    "                 cutoff_test: Optional[Callable] = None, eval_fn: Optional[Callable] = None):\n",
    "        \"\"\"\n",
    "        Args:\n",
    "            d    -- maximum depth to search\n",
    "            game -- game that is being played (can be None if the instance of the class is used with\n",
    "            Game.play_game).\n",
    "            cutoff_test -- function to test whether a cutoff is reached\n",
    "            eval_fn     -- function to evaluate the current state with regards to its utility\n",
    "        \"\"\"\n",
    "        self.game = game\n",
    "        self.d = d\n",
    "        # YOUR CODE HERE\n",
    "        raise NotImplementedError()\n",
    "    \n",
    "    \n",
    "    def max_value(self, state: GameState, player: str, alpha: int, beta: int, depth: int) -> int:\n",
    "        \"\"\"Compute the maximin of a player. This is the highest value that the player can be sure to get\n",
    "        without knowing the actions of the other players; equivalently, it is the lowest value the other\n",
    "        players can force the player to receive when they know the player's action.\n",
    "        Args:\n",
    "            state  -- the current game state\n",
    "            player -- the player whose move it is\n",
    "            alpha -- minimum score that the maximizing player is assured of\n",
    "            beta  -- maximum score that the minimizing player is assured of\n",
    "            depth  -- current depth in the search tree\n",
    "        Returns:\n",
    "            The highest utility value a player can be sure to get independent of the actions of the other\n",
    "            player.\n",
    "        \"\"\"\n",
    "        # YOUR CODE HERE\n",
    "        raise NotImplementedError()\n",
    "\n",
    "\n",
    "    def min_value(self, state: GameState, player: str, alpha: int, beta: int, depth: int) -> int:\n",
    "        \"\"\"Compute the minimax value of a player. This is the smallest value that the other players can force\n",
    "        the player to receive, without knowing the player's actions; equivalently, it is the largest value the\n",
    "        player can be sure to get when they know the actions of the other players.\n",
    "        Args:\n",
    "            state  -- the current game state\n",
    "            player -- the player whose move it is\n",
    "            alpha  -- minimum score that the maximizing player is assured of\n",
    "            beta   -- maximum score that the minimizing player is assured of\n",
    "            depth  -- current depth in the search tree\n",
    "        Returns:\n",
    "            The lowest utility value that the other player can force the player to receive independent of the\n",
    "            actions of the other player.\n",
    "        \"\"\"\n",
    "        # YOUR CODE HERE\n",
    "        raise NotImplementedError()\n",
    "\n",
    "\n",
    "    def search(self, state: GameState) -> Tuple[int, int]:\n",
    "        \"\"\" Implementation of alpha-beta pruning on minimax using cutoff.\n",
    "        Args:\n",
    "            state -- the current game state\n",
    "        Returns:\n",
    "            The best possible move.\n",
    "        \"\"\"\n",
    "        # YOUR CODE HERE\n",
    "        raise NotImplementedError()\n",
    "    \n",
    "    def __call__(self, game: Game, state: GameState) -> Tuple[int, int]:\n",
    "        \"\"\"\n",
    "            This function enables you to call a AlphaBeta instance like a function and is used in the play_game\n",
    "            method.\n",
    "        \"\"\"\n",
    "        self.game = game\n",
    "        return self.search(state)"
   ]
  },
  {
   "cell_type": "code",
   "execution_count": null,
   "id": "4d9d5953",
   "metadata": {
    "deletable": false,
    "editable": false,
    "nbgrader": {
     "cell_type": "code",
     "checksum": "e4af7a717cb8f19dc9c62a6c16580ce7",
     "grade": true,
     "grade_id": "test_tic_tac_toe_C0",
     "locked": true,
     "points": 30,
     "schema_version": 3,
     "solution": false,
     "task": false
    }
   },
   "outputs": [],
   "source": []
  },
  {
   "cell_type": "markdown",
   "id": "bb0094eb",
   "metadata": {
    "deletable": false,
    "editable": false,
    "nbgrader": {
     "cell_type": "markdown",
     "checksum": "91eedbc8cd7bf454e8293f0ec96100bc",
     "grade": false,
     "grade_id": "taskheader_1_4",
     "locked": true,
     "schema_version": 3,
     "solution": false,
     "task": false
    }
   },
   "source": [
    "## Task 1.4\n",
    "\n",
    "**[3 Point(s)]**"
   ]
  },
  {
   "cell_type": "markdown",
   "id": "27c0b897",
   "metadata": {
    "deletable": false,
    "editable": false,
    "nbgrader": {
     "cell_type": "markdown",
     "checksum": "35870f7c7f62cb45796001dd08a174e1",
     "grade": false,
     "grade_id": "tic_tac_toe_D_Description0",
     "locked": true,
     "schema_version": 3,
     "solution": false,
     "task": false
    }
   },
   "source": [
    "## Playing a Game [3 Points]\n",
    "\n",
    "With all the players in place we can now play some games. Either by letting different algorithmic players play against each other, or by playing ourself.\n",
    "\n",
    "Please implement two games:\n",
    "1. `random_player` vs. `AlphaBeta`\n",
    "1. `MiniMax` vs. `AlphaBeta`\n",
    "\n",
    "Since the players given to `Game.play_game()` are always ordered, meaning that the player given as a first argument always starts, please perform each game **twice**, such that each player had the starting position once!\n",
    "\n",
    "> **DO NOT** leave the `human_player` in the code for submission! Since the autograding will get stuck!"
   ]
  },
  {
   "cell_type": "code",
   "execution_count": null,
   "id": "c1316d2c",
   "metadata": {
    "deletable": false,
    "nbgrader": {
     "cell_type": "code",
     "checksum": "a5b674cb9a363d2da328f5da0b2f47b6",
     "grade": true,
     "grade_id": "tic_tac_toe_D",
     "locked": false,
     "points": 3,
     "schema_version": 3,
     "solution": true,
     "task": false
    }
   },
   "outputs": [],
   "source": [
    "player1 = None\n",
    "player2 = None\n",
    "player3 = None\n",
    "\n",
    "# YOUR CODE HERE\n",
    "raise NotImplementedError()"
   ]
  },
  {
   "cell_type": "markdown",
   "id": "eb7a0601",
   "metadata": {
    "deletable": false,
    "editable": false,
    "nbgrader": {
     "cell_type": "markdown",
     "checksum": "fe0766fa516b609cf08b74e678a50a09",
     "grade": false,
     "grade_id": "taskheader_1_5",
     "locked": true,
     "schema_version": 3,
     "solution": false,
     "task": false
    }
   },
   "source": [
    "## Task 1.5\n",
    "\n",
    "**[7 Point(s)]**"
   ]
  },
  {
   "cell_type": "markdown",
   "id": "94047595",
   "metadata": {
    "deletable": false,
    "editable": false,
    "nbgrader": {
     "cell_type": "markdown",
     "checksum": "ea44155057d6ff4f9feb1728c70df3b6",
     "grade": false,
     "grade_id": "tic_tac_toe_E_Description0",
     "locked": true,
     "schema_version": 3,
     "solution": false,
     "task": false
    }
   },
   "source": [
    "## Evaluating MiniMax and AlphaBeta A) [7 Points]\n",
    "\n",
    "Now lets compare the two optimal agents against one another. For this please let each agent play against another instance of itself $10$ times and record both the terminal states and the time taken for the entire game in `terminal_states` and `time_taken` respectively.\n",
    "\n",
    "> If you want, you can also **override** the `play_game` method of your `TicTacToe` class in order to optionally return additional metrics for a more fine grained evaluation!"
   ]
  },
  {
   "cell_type": "code",
   "execution_count": null,
   "id": "8a3c0af7",
   "metadata": {
    "deletable": false,
    "nbgrader": {
     "cell_type": "code",
     "checksum": "69a5af0afe800d8df1bd435bf74f7a69",
     "grade": false,
     "grade_id": "tic_tac_toe_E",
     "locked": false,
     "schema_version": 3,
     "solution": true,
     "task": false
    }
   },
   "outputs": [],
   "source": [
    "import time\n",
    "\n",
    "ttt = TicTacToe()\n",
    "terminal_states = []\n",
    "time_taken = []\n",
    "\n",
    "# YOUR CODE HERE\n",
    "raise NotImplementedError()"
   ]
  },
  {
   "cell_type": "code",
   "execution_count": null,
   "id": "aa75544d",
   "metadata": {
    "deletable": false,
    "editable": false,
    "nbgrader": {
     "cell_type": "code",
     "checksum": "3812a743963bc9ecf1138bbe1ddc6ad7",
     "grade": true,
     "grade_id": "test_tic_tac_toe_E0",
     "locked": true,
     "points": 7,
     "schema_version": 3,
     "solution": false,
     "task": false
    }
   },
   "outputs": [],
   "source": []
  },
  {
   "cell_type": "markdown",
   "id": "fa70cc11",
   "metadata": {
    "deletable": false,
    "editable": false,
    "nbgrader": {
     "cell_type": "markdown",
     "checksum": "2183885ef173b21187dc006b1e22c9a4",
     "grade": false,
     "grade_id": "taskheader_1_6",
     "locked": true,
     "schema_version": 3,
     "solution": false,
     "task": false
    }
   },
   "source": [
    "## Task 1.6\n",
    "\n",
    "**[15 Point(s)]**"
   ]
  },
  {
   "cell_type": "markdown",
   "id": "f5b9715b",
   "metadata": {
    "deletable": false,
    "editable": false,
    "nbgrader": {
     "cell_type": "markdown",
     "checksum": "f2a73e7318c9d06b5d2aff5a05560b9d",
     "grade": false,
     "grade_id": "tic_tac_toe_F_Description0",
     "locked": true,
     "schema_version": 3,
     "solution": false,
     "task": false
    }
   },
   "source": [
    "## Evaluating MiniMax and AlphaBeta B) [15 Points]\n",
    "\n",
    "Try to explain the above results. What are the takeways? Was this results to be expected? Why?\n",
    "\n",
    "What does this tell us about the nature of the game that we have implemented?"
   ]
  },
  {
   "cell_type": "markdown",
   "id": "25ba6af3",
   "metadata": {
    "deletable": false,
    "nbgrader": {
     "cell_type": "markdown",
     "checksum": "7c8015576a93e380a0051d8eb95e3752",
     "grade": true,
     "grade_id": "tic_tac_toe_F",
     "locked": false,
     "points": 15,
     "schema_version": 3,
     "solution": true,
     "task": false
    }
   },
   "source": [
    "YOUR ANSWER HERE"
   ]
  }
 ],
 "metadata": {
  "kernelspec": {
   "display_name": "Python 3 (ipykernel)",
   "language": "python",
   "name": "python3"
  },
  "language_info": {
   "codemirror_mode": {
    "name": "ipython",
    "version": 3
   },
   "file_extension": ".py",
   "mimetype": "text/x-python",
   "name": "python",
   "nbconvert_exporter": "python",
   "pygments_lexer": "ipython3",
   "version": "3.10.11"
  }
 },
 "nbformat": 4,
 "nbformat_minor": 5
}
